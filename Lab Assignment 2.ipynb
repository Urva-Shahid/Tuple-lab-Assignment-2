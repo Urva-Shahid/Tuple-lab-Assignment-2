{
 "cells": [
  {
   "cell_type": "code",
   "execution_count": 1,
   "id": "ecd2c32f-4cd1-4768-9411-eba035830045",
   "metadata": {},
   "outputs": [],
   "source": [
    "#Name: URVA SHAHID\n",
    "#ROLL NUMBER: FA25-BBD-163"
   ]
  },
  {
   "cell_type": "code",
   "execution_count": 2,
   "id": "12d8d8af-5b97-4e32-a0b2-71e1f41b0d99",
   "metadata": {},
   "outputs": [],
   "source": [
    "# TASK NUMBER  1: BASIC CREATION AND ACCESSS"
   ]
  },
  {
   "cell_type": "code",
   "execution_count": 3,
   "id": "519df9ce-5323-4a0e-8819-2ce26390c3fc",
   "metadata": {},
   "outputs": [
    {
     "name": "stdout",
     "output_type": "stream",
     "text": [
      "My Information Tuple: ('Urva', 19, 1.65)\n",
      "My age: 19\n"
     ]
    }
   ],
   "source": [
    "my_info=('Urva',19,1.65)                                             #Creating a tuple with name ,age and height.\n",
    "print(\"My Information Tuple:\",my_info)                               #Printing the whole tuple\n",
    "print(\"My age:\",my_info[1])                                          #Accessing and printing ageusing positive indexing"
   ]
  },
  {
   "cell_type": "code",
   "execution_count": 4,
   "id": "6d410816-c9de-4add-9389-23531aa4c458",
   "metadata": {},
   "outputs": [],
   "source": [
    "# TASK NUMBER 2: SINGLE-ITEM TUPLE"
   ]
  },
  {
   "cell_type": "code",
   "execution_count": 5,
   "id": "e64ba724-6b05-461a-83ca-5ddf0c762b24",
   "metadata": {},
   "outputs": [
    {
     "name": "stdout",
     "output_type": "stream",
     "text": [
      "Type of single_day: <class 'tuple'>\n"
     ]
    }
   ],
   "source": [
    "single_day=('Monday',)                                               #Creating a single item tuple with only one element\n",
    "print(\"Type of single_day:\",                   \n",
    "type(single_day))                                                    #Checking its type"
   ]
  },
  {
   "cell_type": "code",
   "execution_count": 6,
   "id": "3336bd52-f573-4d22-aa1b-c37e2aac4a7d",
   "metadata": {},
   "outputs": [],
   "source": [
    "# TASK NUMBER 3: NEGATIVE INDEXING"
   ]
  },
  {
   "cell_type": "code",
   "execution_count": 7,
   "id": "4998a8c2-aa4e-4073-8df5-67f834af54e6",
   "metadata": {},
   "outputs": [
    {
     "name": "stdout",
     "output_type": "stream",
     "text": [
      "Last Element: Jupiter\n",
      "Third Element from End: Earth\n"
     ]
    }
   ],
   "source": [
    "planets=('Mercury','Venus','Earth','Mars','Jupiter')                  #Defining the tuple of planets\n",
    "print(\"Last Element:\",planets[-1])                                    #Accessing last element\n",
    "print(\"Third Element from End:\",planets[-3])                          #Accessing the third element from the end"
   ]
  },
  {
   "cell_type": "code",
   "execution_count": 8,
   "id": "cc804244-0e73-4a2a-a30a-2f703eacc830",
   "metadata": {},
   "outputs": [],
   "source": [
    "# TASK NUMBER 4: TUPLE CONCATENATION"
   ]
  },
  {
   "cell_type": "code",
   "execution_count": 10,
   "id": "bc2bb88f-4f99-4475-8b0e-7c4e628b0cef",
   "metadata": {},
   "outputs": [
    {
     "name": "stdout",
     "output_type": "stream",
     "text": [
      "Combined Tuple: (1, 2, 3, 4, 5, 6)\n"
     ]
    }
   ],
   "source": [
    "front_numbers=(1,2,3)                                                #Defining two tuples to oin together                               \n",
    "back_numbers=(4,5,6)\n",
    "combined_numbers=front_numbers+back_numbers                          #conacatenating both tuples using +\n",
    "print(\"Combined Tuple:\",combined_numbers)                            #printing the combined result"
   ]
  },
  {
   "cell_type": "code",
   "execution_count": 11,
   "id": "4e8edb7e-de05-462f-b6af-21458786d118",
   "metadata": {},
   "outputs": [],
   "source": [
    "# TASK NUMBER 5: TUPLE REPETITION"
   ]
  },
  {
   "cell_type": "code",
   "execution_count": 13,
   "id": "65a58a16-2c4e-42d8-a8dd-b766ed360f1a",
   "metadata": {},
   "outputs": [
    {
     "name": "stdout",
     "output_type": "stream",
     "text": [
      "Rating Tuple: ('⭐', '⭐', '⭐')\n"
     ]
    }
   ],
   "source": [
    "icon=('⭐',)                                                        #Defining a single elemnt tple\n",
    "ratings=icon*3                                                       #repeting the tuple 3 times\n",
    "print(\"Rating Tuple:\",ratings)                                      #printing the repted tuple"
   ]
  },
  {
   "cell_type": "code",
   "execution_count": 14,
   "id": "25e0f87e-ed87-4a13-9711-4db784c71703",
   "metadata": {},
   "outputs": [],
   "source": [
    "# TASK NUMBER 6: THE Imutability TEST"
   ]
  },
  {
   "cell_type": "code",
   "execution_count": 16,
   "id": "2da8ca1e-7667-42cc-b6c1-e82b570c3708",
   "metadata": {},
   "outputs": [],
   "source": [
    "status=('pending','processing','completed')                         #Creating a tuple of status values\n",
    "\n",
    "#Now if we try to change any value ,like the first one or any other \n",
    "#python will not allow it because tuples cannot be changed afte creation\n",
    "#status[0]='failed'            #(this line will give an error if e runn it)\n",
    "\n",
    "\n",
    "#EXPLANATION:\n",
    "#Tuples are immutable which means once made,thier values stay fixed.So if we try to modify them ,python gives an error"
   ]
  },
  {
   "cell_type": "code",
   "execution_count": 17,
   "id": "f553883f-37a7-4244-a72e-e0a20da04404",
   "metadata": {},
   "outputs": [],
   "source": [
    "#no output for the code of task number 6 because the line that causes an error is commented"
   ]
  },
  {
   "cell_type": "code",
   "execution_count": 18,
   "id": "d6a409e0-d3c0-4fc5-8497-b51fd59f4d33",
   "metadata": {},
   "outputs": [],
   "source": [
    "# TASK NUMBER 7 : TUPLE SLICING"
   ]
  },
  {
   "cell_type": "code",
   "execution_count": 19,
   "id": "c2ca96cd-6fa1-4b12-a4f3-07f09420f16e",
   "metadata": {},
   "outputs": [
    {
     "name": "stdout",
     "output_type": "stream",
     "text": [
      "Slice (30,40,50): (30, 40, 50)\n",
      "Slice up to but not including 50: (10, 20, 30, 40)\n"
     ]
    }
   ],
   "source": [
    "data=(10,20,30,40,50,60,70)                                       #Given tuples with numbers     \n",
    "\n",
    "slice1=data[2:5]                                                  #Extracting elements 30,40,50 using slicing\n",
    "print(\"Slice (30,40,50):\",slice1)\n",
    "\n",
    "slice2=data[:4]                                                   #Extracting from beginning up to but not including 50\n",
    "print(\"Slice up to but not including 50:\",slice2)"
   ]
  },
  {
   "cell_type": "code",
   "execution_count": 20,
   "id": "556dab05-3a6e-464c-a171-e5e117e48df3",
   "metadata": {},
   "outputs": [],
   "source": [
    "# TASK NUMBER 8: COUNTING ELEMENTS"
   ]
  },
  {
   "cell_type": "code",
   "execution_count": 21,
   "id": "7dbbca4f-76f8-4213-a3da-94aaf10b63ae",
   "metadata": {},
   "outputs": [
    {
     "name": "stdout",
     "output_type": "stream",
     "text": [
      "Numbers of 'pass': 4\n",
      "Index of 'defer': 4\n"
     ]
    }
   ],
   "source": [
    "results=('pass','fail','pass','pass','defer','pass')              #Defining the result tuple\n",
    "\n",
    "count_pass=results.count('pass')                                  #Counting 'pass'\n",
    "print(\"Numbers of 'pass':\",count_pass)\n",
    "\n",
    "index_defer=results.index('defer')                                #Finding the index position of 'defer'\n",
    "print(\"Index of 'defer':\",index_defer)"
   ]
  },
  {
   "cell_type": "code",
   "execution_count": null,
   "id": "a67133c7-8a27-4cab-9e1b-7c39b291b69c",
   "metadata": {},
   "outputs": [],
   "source": []
  }
 ],
 "metadata": {
  "kernelspec": {
   "display_name": "Python 3 (ipykernel)",
   "language": "python",
   "name": "python3"
  },
  "language_info": {
   "codemirror_mode": {
    "name": "ipython",
    "version": 3
   },
   "file_extension": ".py",
   "mimetype": "text/x-python",
   "name": "python",
   "nbconvert_exporter": "python",
   "pygments_lexer": "ipython3",
   "version": "3.13.5"
  }
 },
 "nbformat": 4,
 "nbformat_minor": 5
}
